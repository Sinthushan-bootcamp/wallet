{
 "cells": [
  {
   "cell_type": "code",
   "execution_count": 7,
   "metadata": {},
   "outputs": [],
   "source": [
    "import subprocess\n",
    "import json\n",
    "from constants import *\n",
    "import os\n",
    "from dotenv import load_dotenv\n",
    "load_dotenv()\n",
    "\n",
    "\n",
    "MNEMONIC = os.environ.get(\"MNEMONIC\")\n",
    "\n",
    "def derive_wallets(coins):\n",
    "    command = f'php hd-wallet-derive/hd-wallet-derive.php -g --mnemonic=MNEMONIC --cols=path,address,privkey,pubkey --coin={coins} --format=json'\n",
    "    p = subprocess.Popen(command, stdout=subprocess.PIPE, shell=True)\n",
    "    output, err = p.communicate()\n",
    "    p_status = p.wait()\n",
    "    keys = json.loads(output)\n",
    "    return keys"
   ]
  },
  {
   "cell_type": "code",
   "execution_count": 8,
   "metadata": {},
   "outputs": [
    {
     "ename": "JSONDecodeError",
     "evalue": "Expecting value: line 2 column 1 (char 1)",
     "output_type": "error",
     "traceback": [
      "\u001b[1;31m---------------------------------------------------------------------------\u001b[0m",
      "\u001b[1;31mJSONDecodeError\u001b[0m                           Traceback (most recent call last)",
      "\u001b[1;32m<ipython-input-8-fa34a36f6dd6>\u001b[0m in \u001b[0;36m<module>\u001b[1;34m\u001b[0m\n\u001b[1;32m----> 1\u001b[1;33m \u001b[0mderive_wallets\u001b[0m\u001b[1;33m(\u001b[0m\u001b[1;34m\"ETH\"\u001b[0m\u001b[1;33m)\u001b[0m\u001b[1;33m\u001b[0m\u001b[1;33m\u001b[0m\u001b[0m\n\u001b[0m",
      "\u001b[1;32m<ipython-input-7-79c9c0af8a35>\u001b[0m in \u001b[0;36mderive_wallets\u001b[1;34m(coins)\u001b[0m\n\u001b[0;32m     14\u001b[0m     \u001b[0moutput\u001b[0m\u001b[1;33m,\u001b[0m \u001b[0merr\u001b[0m \u001b[1;33m=\u001b[0m \u001b[0mp\u001b[0m\u001b[1;33m.\u001b[0m\u001b[0mcommunicate\u001b[0m\u001b[1;33m(\u001b[0m\u001b[1;33m)\u001b[0m\u001b[1;33m\u001b[0m\u001b[1;33m\u001b[0m\u001b[0m\n\u001b[0;32m     15\u001b[0m     \u001b[0mp_status\u001b[0m \u001b[1;33m=\u001b[0m \u001b[0mp\u001b[0m\u001b[1;33m.\u001b[0m\u001b[0mwait\u001b[0m\u001b[1;33m(\u001b[0m\u001b[1;33m)\u001b[0m\u001b[1;33m\u001b[0m\u001b[1;33m\u001b[0m\u001b[0m\n\u001b[1;32m---> 16\u001b[1;33m     \u001b[0mkeys\u001b[0m \u001b[1;33m=\u001b[0m \u001b[0mjson\u001b[0m\u001b[1;33m.\u001b[0m\u001b[0mloads\u001b[0m\u001b[1;33m(\u001b[0m\u001b[0moutput\u001b[0m\u001b[1;33m)\u001b[0m\u001b[1;33m\u001b[0m\u001b[1;33m\u001b[0m\u001b[0m\n\u001b[0m\u001b[0;32m     17\u001b[0m     \u001b[1;32mreturn\u001b[0m \u001b[0mkeys\u001b[0m\u001b[1;33m\u001b[0m\u001b[1;33m\u001b[0m\u001b[0m\n",
      "\u001b[1;32m~\\anaconda3\\envs\\ethereum\\lib\\json\\__init__.py\u001b[0m in \u001b[0;36mloads\u001b[1;34m(s, encoding, cls, object_hook, parse_float, parse_int, parse_constant, object_pairs_hook, **kw)\u001b[0m\n\u001b[0;32m    346\u001b[0m             \u001b[0mparse_int\u001b[0m \u001b[1;32mis\u001b[0m \u001b[1;32mNone\u001b[0m \u001b[1;32mand\u001b[0m \u001b[0mparse_float\u001b[0m \u001b[1;32mis\u001b[0m \u001b[1;32mNone\u001b[0m \u001b[1;32mand\u001b[0m\u001b[1;33m\u001b[0m\u001b[1;33m\u001b[0m\u001b[0m\n\u001b[0;32m    347\u001b[0m             parse_constant is None and object_pairs_hook is None and not kw):\n\u001b[1;32m--> 348\u001b[1;33m         \u001b[1;32mreturn\u001b[0m \u001b[0m_default_decoder\u001b[0m\u001b[1;33m.\u001b[0m\u001b[0mdecode\u001b[0m\u001b[1;33m(\u001b[0m\u001b[0ms\u001b[0m\u001b[1;33m)\u001b[0m\u001b[1;33m\u001b[0m\u001b[1;33m\u001b[0m\u001b[0m\n\u001b[0m\u001b[0;32m    349\u001b[0m     \u001b[1;32mif\u001b[0m \u001b[0mcls\u001b[0m \u001b[1;32mis\u001b[0m \u001b[1;32mNone\u001b[0m\u001b[1;33m:\u001b[0m\u001b[1;33m\u001b[0m\u001b[1;33m\u001b[0m\u001b[0m\n\u001b[0;32m    350\u001b[0m         \u001b[0mcls\u001b[0m \u001b[1;33m=\u001b[0m \u001b[0mJSONDecoder\u001b[0m\u001b[1;33m\u001b[0m\u001b[1;33m\u001b[0m\u001b[0m\n",
      "\u001b[1;32m~\\anaconda3\\envs\\ethereum\\lib\\json\\decoder.py\u001b[0m in \u001b[0;36mdecode\u001b[1;34m(self, s, _w)\u001b[0m\n\u001b[0;32m    335\u001b[0m \u001b[1;33m\u001b[0m\u001b[0m\n\u001b[0;32m    336\u001b[0m         \"\"\"\n\u001b[1;32m--> 337\u001b[1;33m         \u001b[0mobj\u001b[0m\u001b[1;33m,\u001b[0m \u001b[0mend\u001b[0m \u001b[1;33m=\u001b[0m \u001b[0mself\u001b[0m\u001b[1;33m.\u001b[0m\u001b[0mraw_decode\u001b[0m\u001b[1;33m(\u001b[0m\u001b[0ms\u001b[0m\u001b[1;33m,\u001b[0m \u001b[0midx\u001b[0m\u001b[1;33m=\u001b[0m\u001b[0m_w\u001b[0m\u001b[1;33m(\u001b[0m\u001b[0ms\u001b[0m\u001b[1;33m,\u001b[0m \u001b[1;36m0\u001b[0m\u001b[1;33m)\u001b[0m\u001b[1;33m.\u001b[0m\u001b[0mend\u001b[0m\u001b[1;33m(\u001b[0m\u001b[1;33m)\u001b[0m\u001b[1;33m)\u001b[0m\u001b[1;33m\u001b[0m\u001b[1;33m\u001b[0m\u001b[0m\n\u001b[0m\u001b[0;32m    338\u001b[0m         \u001b[0mend\u001b[0m \u001b[1;33m=\u001b[0m \u001b[0m_w\u001b[0m\u001b[1;33m(\u001b[0m\u001b[0ms\u001b[0m\u001b[1;33m,\u001b[0m \u001b[0mend\u001b[0m\u001b[1;33m)\u001b[0m\u001b[1;33m.\u001b[0m\u001b[0mend\u001b[0m\u001b[1;33m(\u001b[0m\u001b[1;33m)\u001b[0m\u001b[1;33m\u001b[0m\u001b[1;33m\u001b[0m\u001b[0m\n\u001b[0;32m    339\u001b[0m         \u001b[1;32mif\u001b[0m \u001b[0mend\u001b[0m \u001b[1;33m!=\u001b[0m \u001b[0mlen\u001b[0m\u001b[1;33m(\u001b[0m\u001b[0ms\u001b[0m\u001b[1;33m)\u001b[0m\u001b[1;33m:\u001b[0m\u001b[1;33m\u001b[0m\u001b[1;33m\u001b[0m\u001b[0m\n",
      "\u001b[1;32m~\\anaconda3\\envs\\ethereum\\lib\\json\\decoder.py\u001b[0m in \u001b[0;36mraw_decode\u001b[1;34m(self, s, idx)\u001b[0m\n\u001b[0;32m    353\u001b[0m             \u001b[0mobj\u001b[0m\u001b[1;33m,\u001b[0m \u001b[0mend\u001b[0m \u001b[1;33m=\u001b[0m \u001b[0mself\u001b[0m\u001b[1;33m.\u001b[0m\u001b[0mscan_once\u001b[0m\u001b[1;33m(\u001b[0m\u001b[0ms\u001b[0m\u001b[1;33m,\u001b[0m \u001b[0midx\u001b[0m\u001b[1;33m)\u001b[0m\u001b[1;33m\u001b[0m\u001b[1;33m\u001b[0m\u001b[0m\n\u001b[0;32m    354\u001b[0m         \u001b[1;32mexcept\u001b[0m \u001b[0mStopIteration\u001b[0m \u001b[1;32mas\u001b[0m \u001b[0merr\u001b[0m\u001b[1;33m:\u001b[0m\u001b[1;33m\u001b[0m\u001b[1;33m\u001b[0m\u001b[0m\n\u001b[1;32m--> 355\u001b[1;33m             \u001b[1;32mraise\u001b[0m \u001b[0mJSONDecodeError\u001b[0m\u001b[1;33m(\u001b[0m\u001b[1;34m\"Expecting value\"\u001b[0m\u001b[1;33m,\u001b[0m \u001b[0ms\u001b[0m\u001b[1;33m,\u001b[0m \u001b[0merr\u001b[0m\u001b[1;33m.\u001b[0m\u001b[0mvalue\u001b[0m\u001b[1;33m)\u001b[0m \u001b[1;32mfrom\u001b[0m \u001b[1;32mNone\u001b[0m\u001b[1;33m\u001b[0m\u001b[1;33m\u001b[0m\u001b[0m\n\u001b[0m\u001b[0;32m    356\u001b[0m         \u001b[1;32mreturn\u001b[0m \u001b[0mobj\u001b[0m\u001b[1;33m,\u001b[0m \u001b[0mend\u001b[0m\u001b[1;33m\u001b[0m\u001b[1;33m\u001b[0m\u001b[0m\n",
      "\u001b[1;31mJSONDecodeError\u001b[0m: Expecting value: line 2 column 1 (char 1)"
     ]
    }
   ],
   "source": [
    "derive_wallets(\"ETH\")"
   ]
  },
  {
   "cell_type": "code",
   "execution_count": 19,
   "metadata": {},
   "outputs": [
    {
     "name": "stdout",
     "output_type": "stream",
     "text": [
      "b'\\n[{\"path\":\"m\\\\/44\\'\\\\/0\\'\\\\/0\\'\\\\/0\\\\/0\",\"address\":\"1H2VHJTkr6o4eFwRgPha1RPNv3Gn9KHX9S\",\"privkey\":\"L5aihEeb5Qixpe5HyUAD4gMaPh8R3e6Aavrg9E8RqHKuEf97q1nw\",\"pubkey\":\"028015aa24acd2adde4ae023cfd5d610e0d7b1444904356a7af4e030aab7b9a630\"},{\"path\":\"m\\\\/44\\'\\\\/0\\'\\\\/0\\'\\\\/0\\\\/1\",\"address\":\"1EoEGqPWpn5ApD8WtMoNac84xoViktxVYU\",\"privkey\":\"L3KrriyAdd4usdHVpQef3h6rGahSNYK8Hb2vr9V9yVEHv25KuFQj\",\"pubkey\":\"03afc3868232b5a5512384ed804b5386e06f03a9250b82e27a2316ac0b67def20c\"},{\"path\":\"m\\\\/44\\'\\\\/0\\'\\\\/0\\'\\\\/0\\\\/2\",\"address\":\"1E1eBnjmReHC3MzZ67zUpNYxmfAwrPKpPN\",\"privkey\":\"Kwh4CzL9V5GFjhB87Pnx9a9C1rX1jNfUrdHVpwvY93br9PydejDe\",\"pubkey\":\"0369608c354b64baea10b4770872bd4ff1e188e2e0083cac0179127240823da1e1\"},{\"path\":\"m\\\\/44\\'\\\\/0\\'\\\\/0\\'\\\\/0\\\\/3\",\"address\":\"1LHLY5kYisrf2p4oSmWU2EPScppH96hvBR\",\"privkey\":\"L1RtYJqoCKsbfJZ7VbLYLQygSXNu7CMVExAnvMtTMu9KzVe1JFdd\",\"pubkey\":\"03e17b7ef3f6f655574d5f502d546097f97d390033a58d5b9550edd293da5324b1\"},{\"path\":\"m\\\\/44\\'\\\\/0\\'\\\\/0\\'\\\\/0\\\\/4\",\"address\":\"1G9vshvEjF3JL3gJcQVCBXKvgPUbar81QE\",\"privkey\":\"L3MzUyFZKmPRpa5ogsBKiRkZaKnkTGoLknAybamUyyq7V3bZn8f1\",\"pubkey\":\"02ae6e8d9b8bf0574479d4cb1aa6f667bb0d2f82ef8cb734d0318e99c2a8a92fdf\"},{\"path\":\"m\\\\/44\\'\\\\/0\\'\\\\/0\\'\\\\/0\\\\/5\",\"address\":\"1QFB3ot4D9g1QiMFvAYmtc8DYasDsTVxBz\",\"privkey\":\"Kxmgx5o6gtDiLe6AuT9rAd3RQ7VbfFe1VAFzuu9y9t6yz9ZNLyFL\",\"pubkey\":\"02f0009455dde9a3acd6d000dc073808d3c6f1b3081c13479458b2689235ddb6c4\"},{\"path\":\"m\\\\/44\\'\\\\/0\\'\\\\/0\\'\\\\/0\\\\/6\",\"address\":\"16w9DwZJpG3wzbsiHsvCLeP5kYGkX5tcLn\",\"privkey\":\"KzCLbDE2zsu9uq8ibD6VJKGUV4BwHh8eFjLDTteQ3BAsHKKGvUHg\",\"pubkey\":\"0214cc1caaf6c6bdb225e77c66028a3e392246be1c12550a77576023c97cae4bb2\"},{\"path\":\"m\\\\/44\\'\\\\/0\\'\\\\/0\\'\\\\/0\\\\/7\",\"address\":\"1J4HjkpRFqa3jtXuRNdcri94goKeQtWXia\",\"privkey\":\"L4q6jd3cq585FfP6MeBqy35HGoLMecjgxnh8h2PSnjrcsT3KBrse\",\"pubkey\":\"03325fbacd7253999c42fba6bfb323217accd397f26c4d9fb9b5be1ffa6703ce34\"},{\"path\":\"m\\\\/44\\'\\\\/0\\'\\\\/0\\'\\\\/0\\\\/8\",\"address\":\"1GXLg7zrDv16Ri4QtHbm6QYXYKcZRnp2Nb\",\"privkey\":\"L29Vr56tqHP1ezVXJgvfqGHc5jdRWFerXNP2FzDLqYYYQoiFHdj3\",\"pubkey\":\"029868c1614cda4178df745e36069b2c782c1088677f362e14aba7b7e47033634e\"},{\"path\":\"m\\\\/44\\'\\\\/0\\'\\\\/0\\'\\\\/0\\\\/9\",\"address\":\"1AdSKMKDJgQso19B4FgTwB9FmdgtTbTrLo\",\"privkey\":\"KxSVYNW63PYCDCYks171mvXvkUnytUS3vDJcAxXymYVSeGNqwZkW\",\"pubkey\":\"03562c1c5132b911e97f58e05620c087be3cf1100052dd9dd205cd0362e1f5170a\"}]'\n"
     ]
    }
   ],
   "source": [
    "import os\n",
    "from dotenv import load_dotenv\n",
    "import pprint\n",
    "load_dotenv()\n",
    "\n",
    "\n",
    "MNEMONIC = os.environ.get(\"MNEMONIC\")\n",
    "\n",
    "def derive_wallets(coins,MNEMONIC):\n",
    "    command = f'php hd-wallet-derive\\hd-wallet-derive.php -g --mnemonic=\"{MNEMONIC}\" --cols=path,address,privkey,pubkey --format=json'\n",
    "    p = subprocess.Popen(command, stdout=subprocess.PIPE, shell=True)\n",
    "    output, err = p.communicate()\n",
    "    p_status = p.wait()\n",
    "    print(output)\n",
    "    #keys = json.loads(output)\n",
    "    #return keys\n",
    "    \n",
    "\n",
    "coins = derive_wallets(BTCTEST, MNEMONIC)\n",
    "\n",
    "#pprint(coins)\n"
   ]
  },
  {
   "cell_type": "code",
   "execution_count": null,
   "metadata": {},
   "outputs": [],
   "source": []
  }
 ],
 "metadata": {
  "kernelspec": {
   "display_name": "Python 3",
   "language": "python",
   "name": "python3"
  },
  "language_info": {
   "codemirror_mode": {
    "name": "ipython",
    "version": 3
   },
   "file_extension": ".py",
   "mimetype": "text/x-python",
   "name": "python",
   "nbconvert_exporter": "python",
   "pygments_lexer": "ipython3",
   "version": "3.7.7"
  }
 },
 "nbformat": 4,
 "nbformat_minor": 4
}
